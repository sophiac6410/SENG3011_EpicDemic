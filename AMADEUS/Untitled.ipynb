{
 "cells": [
  {
   "cell_type": "code",
   "execution_count": 1,
   "id": "d995bfa4",
   "metadata": {},
   "outputs": [],
   "source": [
    "from amadeus import Client, ResponseError\n",
    "\n",
    "amadeus = Client(\n",
    "    client_id='mGjZ7901nb0kV25dnkj2WZy1tEtLqVbp',\n",
    "    client_secret='zzyRaxseNwed0V0D'\n",
    ")"
   ]
  },
  {
   "cell_type": "code",
   "execution_count": 4,
   "id": "ef47d75d",
   "metadata": {},
   "outputs": [],
   "source": [
    "response = amadeus.safety.safety_rated_locations.get(latitude=52.541755, longitude=13.354201)"
   ]
  },
  {
   "cell_type": "code",
   "execution_count": 5,
   "id": "abd47cab",
   "metadata": {},
   "outputs": [
    {
     "data": {
      "text/plain": [
       "[{'type': 'safety-rated-location',\n",
       "  'id': 'Q930401028',\n",
       "  'self': {'type': 'https://test.api.amadeus.com/v1/safety/safety-rated-locations/Q930401028',\n",
       "   'methods': ['GET']},\n",
       "  'subType': 'DISTRICT',\n",
       "  'name': 'Gesundbrunnen (Berlin)',\n",
       "  'geoCode': {'latitude': 52.5523454, 'longitude': 13.381467},\n",
       "  'safetyScores': {'lgbtq': 33,\n",
       "   'medical': 46,\n",
       "   'overall': 34,\n",
       "   'physicalHarm': 33,\n",
       "   'politicalFreedom': 26,\n",
       "   'theft': 34,\n",
       "   'women': 33}},\n",
       " {'type': 'safety-rated-location',\n",
       "  'id': 'Q930406932',\n",
       "  'self': {'type': 'https://test.api.amadeus.com/v1/safety/safety-rated-locations/Q930406932',\n",
       "   'methods': ['GET']},\n",
       "  'subType': 'DISTRICT',\n",
       "  'name': 'Hansaviertel (Berlin)',\n",
       "  'geoCode': {'latitude': 52.5213115, 'longitude': 13.3433225},\n",
       "  'safetyScores': {'lgbtq': 33,\n",
       "   'medical': 46,\n",
       "   'overall': 34,\n",
       "   'physicalHarm': 33,\n",
       "   'politicalFreedom': 26,\n",
       "   'theft': 34,\n",
       "   'women': 33}},\n",
       " {'type': 'safety-rated-location',\n",
       "  'id': 'Q930406952',\n",
       "  'self': {'type': 'https://test.api.amadeus.com/v1/safety/safety-rated-locations/Q930406952',\n",
       "   'methods': ['GET']},\n",
       "  'subType': 'DISTRICT',\n",
       "  'name': 'Moabit (Berlin)',\n",
       "  'geoCode': {'latitude': 52.5307829, 'longitude': 13.3471759},\n",
       "  'safetyScores': {'lgbtq': 33,\n",
       "   'medical': 46,\n",
       "   'overall': 34,\n",
       "   'physicalHarm': 33,\n",
       "   'politicalFreedom': 26,\n",
       "   'theft': 34,\n",
       "   'women': 33}},\n",
       " {'type': 'safety-rated-location',\n",
       "  'id': 'Q930406963',\n",
       "  'self': {'type': 'https://test.api.amadeus.com/v1/safety/safety-rated-locations/Q930406963',\n",
       "   'methods': ['GET']},\n",
       "  'subType': 'DISTRICT',\n",
       "  'name': 'Parkviertel (Berlin)',\n",
       "  'geoCode': {'latitude': 52.5372897, 'longitude': 13.3602743},\n",
       "  'safetyScores': {'lgbtq': 37,\n",
       "   'medical': 46,\n",
       "   'overall': 37,\n",
       "   'physicalHarm': 36,\n",
       "   'politicalFreedom': 26,\n",
       "   'theft': 37,\n",
       "   'women': 37}},\n",
       " {'type': 'safety-rated-location',\n",
       "  'id': 'Q930406990',\n",
       "  'self': {'type': 'https://test.api.amadeus.com/v1/safety/safety-rated-locations/Q930406990',\n",
       "   'methods': ['GET']},\n",
       "  'subType': 'DISTRICT',\n",
       "  'name': 'Wedding Zentrum (Berlin)',\n",
       "  'geoCode': {'latitude': 52.5504827, 'longitude': 13.3519841},\n",
       "  'safetyScores': {'lgbtq': 37,\n",
       "   'medical': 46,\n",
       "   'overall': 37,\n",
       "   'physicalHarm': 37,\n",
       "   'politicalFreedom': 26,\n",
       "   'theft': 37,\n",
       "   'women': 37}}]"
      ]
     },
     "execution_count": 5,
     "metadata": {},
     "output_type": "execute_result"
    }
   ],
   "source": [
    "response.data"
   ]
  },
  {
   "cell_type": "code",
   "execution_count": null,
   "id": "7633bd0c",
   "metadata": {},
   "outputs": [],
   "source": []
  }
 ],
 "metadata": {
  "kernelspec": {
   "display_name": "Python 3.9.7 ('base')",
   "language": "python",
   "name": "python397jvsc74a57bd03e7146faacde082aab2710777cf0e2ce2d2b9ec21ac7057e7a88fbe2c2279a43"
  },
  "language_info": {
   "codemirror_mode": {
    "name": "ipython",
    "version": 3
   },
   "file_extension": ".py",
   "mimetype": "text/x-python",
   "name": "python",
   "nbconvert_exporter": "python",
   "pygments_lexer": "ipython3",
   "version": "3.9.7"
  }
 },
 "nbformat": 4,
 "nbformat_minor": 5
}
